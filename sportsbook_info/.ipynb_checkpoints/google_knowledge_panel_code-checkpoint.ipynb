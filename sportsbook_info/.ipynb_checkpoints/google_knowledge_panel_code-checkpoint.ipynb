{
 "cells": [
  {
   "cell_type": "code",
   "execution_count": 171,
   "metadata": {},
   "outputs": [],
   "source": [
    "import requests \n",
    "from bs4 import BeautifulSoup\n",
    "import pandas as pd"
   ]
  },
  {
   "cell_type": "code",
   "execution_count": 255,
   "metadata": {},
   "outputs": [],
   "source": [
    "def google_knowledge_panel_to_md(search):\n",
    "    '''\n",
    "    Returns the google search knowledge panel information into a markdown table \n",
    "    \n",
    "    google_knowledge_panel_to_md(search)\n",
    "    \n",
    "    Parameters - \n",
    "    search: the text entered in a google search\n",
    "    '''\n",
    "    url=f'https://www.google.com/search?q={search}'\n",
    "    res=requests.get(url)\n",
    "    soup=BeautifulSoup(res.text)\n",
    "    spans=soup.find_all('span',{'class':\"BNeawe s3v9rd AP7Wnd\"})\n",
    "    spans2=soup.find_all('span',{'class':\"BNeawe tAd8D AP7Wnd\"})\n",
    "    panel_df=pd.DataFrame(zip([span.text for span in spans],[span.text for span in spans2])).rename(columns={0:'Search',1:search})\n",
    "    return print(panel_df.to_markdown(index=False))"
   ]
  },
  {
   "cell_type": "code",
   "execution_count": 256,
   "metadata": {},
   "outputs": [
    {
     "name": "stdout",
     "output_type": "stream",
     "text": [
      "| Search                | FanDuel                                              |\n",
      "|:----------------------|:-----------------------------------------------------|\n",
      "| Number of employees   | 1,500                                                |\n",
      "| Founded               | July 21, 2009, Edinburgh, United Kingdom             |\n",
      "| Headquarters location | New York, NY                                         |\n",
      "| CEO                   | Amy Howe (Jul 16, 2021–)                             |\n",
      "| Founders              | Nigel Eccles, Lesley Eccles, Tom Griffiths, and more |\n",
      "| Parent organizations  | Flutter Entertainment and Fox Corporation            |\n",
      "| Subsidiaries          | numberFire, Fandom Gaming, Inc, and Kotikan Limited  |\n"
     ]
    }
   ],
   "source": [
    "google_knowledge_panel_to_md('FanDuel')"
   ]
  },
  {
   "cell_type": "code",
   "execution_count": 258,
   "metadata": {},
   "outputs": [
    {
     "name": "stdout",
     "output_type": "stream",
     "text": [
      "| Search              | DraftKings                                      |\n",
      "|:--------------------|:------------------------------------------------|\n",
      "| Number of employees | 3,400 (2021)                                    |\n",
      "| CTO                 | Travis Dunn                                     |\n",
      "| Headquarters        | Boston, MA                                      |\n",
      "| Founded             | 2012                                            |\n",
      "| Founders            | Jason Robins, Matthew Kalish, and Paul Liberman |\n",
      "| Parent organization | DraftKings Inc.                                 |\n"
     ]
    }
   ],
   "source": [
    "google_knowledge_panel_to_md('DraftKings')"
   ]
  }
 ],
 "metadata": {
  "kernelspec": {
   "display_name": "Python 3",
   "language": "python",
   "name": "python3"
  },
  "language_info": {
   "codemirror_mode": {
    "name": "ipython",
    "version": 3
   },
   "file_extension": ".py",
   "mimetype": "text/x-python",
   "name": "python",
   "nbconvert_exporter": "python",
   "pygments_lexer": "ipython3",
   "version": "3.8.5"
  }
 },
 "nbformat": 4,
 "nbformat_minor": 4
}
