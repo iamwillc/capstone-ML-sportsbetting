{
 "cells": [
  {
   "cell_type": "markdown",
   "metadata": {},
   "source": [
    "<img src=\"https://imgur.com/3Ua9VYU.png\" style=\"float: left; margin: 18px; height: 75px\"> \n",
    "\n",
    "# Modeling & Accuracy of Models\n",
    "---"
   ]
  },
  {
   "cell_type": "markdown",
   "metadata": {},
   "source": [
    "## NBA Game Total Score Prediction\n",
    "---\n",
    "## Problem Statement\n",
    "With the unpredictability in sports, there is never be an sure-fire winning sportsbet.\n",
    "The goal of this project is to create a model that returns the expected totals of upcoming NBA matchups and comparing that to Over/Under bets from different sportsbooks, recommending whether the total will fall within the over or under line and by how much. Ultimately giving players somewhat of an analysis and upperhand when betting on sportsbooks. To create the expected value for the total of the game, we will be implementing machine learning models on previous NBA game data. Choosing the model with the best testing score.\n",
    "---"
   ]
  },
  {
   "cell_type": "markdown",
   "metadata": {},
   "source": [
    "### Importing Libraries & Data\n",
    "---"
   ]
  },
  {
   "cell_type": "code",
   "execution_count": 112,
   "metadata": {},
   "outputs": [],
   "source": [
    "import pandas as pd\n",
    "import numpy as np\n",
    "import matplotlib.pyplot as plt\n",
    "from sklearn.model_selection import train_test_split, cross_val_score\n",
    "from sklearn.preprocessing import PolynomialFeatures,StandardScaler,MinMaxScaler\n",
    "from sklearn.pipeline import Pipeline\n",
    "from sklearn.linear_model import LinearRegression,RidgeCV,LassoCV,ElasticNetCV\n",
    "from sklearn.compose import ColumnTransformer\n",
    "from sklearn.neighbors import KNeighborsRegressor\n",
    "from sklearn.tree import DecisionTreeRegressor,plot_tree\n",
    "from sklearn.ensemble import RandomForestRegressor,AdaBoostRegressor,GradientBoostingRegressor\n",
    "from sklearn.metrics import mean_squared_error"
   ]
  },
  {
   "cell_type": "code",
   "execution_count": 113,
   "metadata": {},
   "outputs": [],
   "source": [
    "team1=pd.read_csv('../data/team1data.csv')\n",
    "team2=pd.read_csv('../data/team2data.csv')"
   ]
  },
  {
   "cell_type": "markdown",
   "metadata": {},
   "source": [
    "---\n",
    "### Modeling\n",
    "---"
   ]
  },
  {
   "cell_type": "markdown",
   "metadata": {},
   "source": [
    "### Team 1 (Home Team)"
   ]
  },
  {
   "cell_type": "code",
   "execution_count": 114,
   "metadata": {},
   "outputs": [],
   "source": [
    "#Train-Test-Split"
   ]
  },
  {
   "cell_type": "code",
   "execution_count": 115,
   "metadata": {},
   "outputs": [],
   "source": [
    "X=team1.drop(columns=['date_game','pts'])\n",
    "y=team1['pts']\n",
    "X_train, X_val, y_train, y_val = train_test_split(X, y, test_size=0.20, random_state=42)"
   ]
  },
  {
   "cell_type": "code",
   "execution_count": 116,
   "metadata": {},
   "outputs": [],
   "source": [
    "#baseline score(average score)"
   ]
  },
  {
   "cell_type": "code",
   "execution_count": 117,
   "metadata": {},
   "outputs": [
    {
     "data": {
      "text/plain": [
       "104.27027027027027"
      ]
     },
     "execution_count": 117,
     "metadata": {},
     "output_type": "execute_result"
    }
   ],
   "source": [
    "y.mean()"
   ]
  },
  {
   "cell_type": "markdown",
   "metadata": {},
   "source": [
    "#### Linear Regression Pipeline\n",
    "---"
   ]
  },
  {
   "cell_type": "code",
   "execution_count": 118,
   "metadata": {},
   "outputs": [],
   "source": [
    "lr_pipe=Pipeline([\n",
    "    ('mms',MinMaxScaler()),\n",
    "    ('pf',PolynomialFeatures(include_bias=False)),\n",
    "    ('lr',LinearRegression())\n",
    "])"
   ]
  },
  {
   "cell_type": "markdown",
   "metadata": {},
   "source": [
    "##### Linear Regression Scores"
   ]
  },
  {
   "cell_type": "code",
   "execution_count": 119,
   "metadata": {},
   "outputs": [
    {
     "name": "stdout",
     "output_type": "stream",
     "text": [
      "train score: 1.0\n",
      "val score: -0.8064376083819718\n",
      "cross validate score: -1.3421238940206202\n",
      "RMSE train: 3.0736098171946326e-14\n",
      "RMSE val: 15.46883123936881\n"
     ]
    }
   ],
   "source": [
    "pipe_name=lr_pipe.fit(X_train,y_train)\n",
    "print(f'train score: {pipe_name.score(X_train,y_train)}')\n",
    "print(f'val score: {pipe_name.score(X_val,y_val)}')\n",
    "print(f'cross validate score: {cross_val_score(pipe_name, X_train, y_train, cv=5, n_jobs=-1).mean()}')\n",
    "print(f'RMSE train: {mean_squared_error(y_train,pipe_name.predict(X_train),squared=False)}')\n",
    "print(f'RMSE val: {mean_squared_error(y_val,pipe_name.predict(X_val),squared=False)}')\n"
   ]
  },
  {
   "cell_type": "markdown",
   "metadata": {},
   "source": [
    "#### Ridge Regression Pipeline\n",
    "---"
   ]
  },
  {
   "cell_type": "code",
   "execution_count": 120,
   "metadata": {},
   "outputs": [],
   "source": [
    "rl_alphas = np.logspace(-3,0,5, 100)\n",
    "ridge_pipe=Pipeline([\n",
    "    ('mms',MinMaxScaler()),\n",
    "    ('pf',PolynomialFeatures(include_bias=False)),\n",
    "    ('ridge',RidgeCV(alphas=rl_alphas,scoring='r2',cv=5))\n",
    "])"
   ]
  },
  {
   "cell_type": "markdown",
   "metadata": {},
   "source": [
    "##### Ridge Regression Scores"
   ]
  },
  {
   "cell_type": "code",
   "execution_count": 121,
   "metadata": {},
   "outputs": [
    {
     "name": "stdout",
     "output_type": "stream",
     "text": [
      "train score: 0.9991339625765945\n",
      "val score: -0.7266327880130223\n",
      "cross validate score: -1.3078580798271309\n",
      "RMSE train: 0.3158303376506942\n",
      "RMSE val: 15.123280598532718\n"
     ]
    }
   ],
   "source": [
    "pipe_name=ridge_pipe.fit(X_train,y_train)\n",
    "print(f'train score: {pipe_name.score(X_train,y_train)}')\n",
    "print(f'val score: {pipe_name.score(X_val,y_val)}')\n",
    "print(f'cross validate score: {cross_val_score(pipe_name, X_train, y_train, cv=5, n_jobs=-1).mean()}')\n",
    "print(f'RMSE train: {mean_squared_error(y_train,pipe_name.predict(X_train),squared=False)}')\n",
    "print(f'RMSE val: {mean_squared_error(y_val,pipe_name.predict(X_val),squared=False)}')\n"
   ]
  },
  {
   "cell_type": "markdown",
   "metadata": {},
   "source": [
    "#### ElasticNet Regression Pipeline\n",
    "---"
   ]
  },
  {
   "cell_type": "code",
   "execution_count": 122,
   "metadata": {},
   "outputs": [],
   "source": [
    "enet_alphas = np.linspace(0.5, 1.0, 100)\n",
    "enet_ratio = 0.5\n",
    "en_pipe=Pipeline([\n",
    "    ('mms',MinMaxScaler()),\n",
    "    ('pf',PolynomialFeatures(include_bias=False)),\n",
    "    ('en',ElasticNetCV(alphas=enet_alphas,l1_ratio=enet_ratio,cv=5,random_state=42))\n",
    "])"
   ]
  },
  {
   "cell_type": "markdown",
   "metadata": {},
   "source": [
    "##### ElasticNet Regression Scores"
   ]
  },
  {
   "cell_type": "code",
   "execution_count": 123,
   "metadata": {},
   "outputs": [
    {
     "name": "stdout",
     "output_type": "stream",
     "text": [
      "train score: 0.07613958147651845\n",
      "val score: -0.036364738413293685\n",
      "cross validate score: -0.24638805330778793\n",
      "RMSE train: 10.315462280901228\n",
      "RMSE val: 11.716619661104348\n"
     ]
    }
   ],
   "source": [
    "pipe_name=en_pipe.fit(X_train,y_train)\n",
    "print(f'train score: {pipe_name.score(X_train,y_train)}')\n",
    "print(f'val score: {pipe_name.score(X_val,y_val)}')\n",
    "print(f'cross validate score: {cross_val_score(pipe_name, X_train, y_train, cv=5, n_jobs=-1).mean()}')\n",
    "print(f'RMSE train: {mean_squared_error(y_train,pipe_name.predict(X_train),squared=False)}')\n",
    "print(f'RMSE val: {mean_squared_error(y_val,pipe_name.predict(X_val),squared=False)}')\n"
   ]
  },
  {
   "cell_type": "markdown",
   "metadata": {},
   "source": [
    "#### K-Nearest Neighbor Regression Pipeline\n",
    "---"
   ]
  },
  {
   "cell_type": "code",
   "execution_count": 124,
   "metadata": {},
   "outputs": [],
   "source": [
    "knn_pipe=Pipeline([\n",
    "    ('mms',MinMaxScaler()),\n",
    "    ('pf',PolynomialFeatures(include_bias=False)),\n",
    "    ('knn',KNeighborsRegressor())\n",
    "])"
   ]
  },
  {
   "cell_type": "markdown",
   "metadata": {},
   "source": [
    "##### K-Nearest Neighbor Scores"
   ]
  },
  {
   "cell_type": "code",
   "execution_count": 125,
   "metadata": {},
   "outputs": [
    {
     "name": "stdout",
     "output_type": "stream",
     "text": [
      "train score: 0.19059091725362698\n",
      "val score: -0.3151120654945643\n",
      "cross validate score: -0.3017934366387178\n",
      "RMSE train: 9.655384025400858\n",
      "RMSE val: 13.198585782827896\n"
     ]
    }
   ],
   "source": [
    "pipe_name=knn_pipe.fit(X_train,y_train)\n",
    "print(f'train score: {pipe_name.score(X_train,y_train)}')\n",
    "print(f'val score: {pipe_name.score(X_val,y_val)}')\n",
    "print(f'cross validate score: {cross_val_score(pipe_name, X_train, y_train, cv=5, n_jobs=-1).mean()}')\n",
    "print(f'RMSE train: {mean_squared_error(y_train,pipe_name.predict(X_train),squared=False)}')\n",
    "print(f'RMSE val: {mean_squared_error(y_val,pipe_name.predict(X_val),squared=False)}')\n"
   ]
  },
  {
   "cell_type": "markdown",
   "metadata": {},
   "source": [
    "#### Decision Tree Regression Pipeline\n",
    "---"
   ]
  },
  {
   "cell_type": "code",
   "execution_count": 126,
   "metadata": {},
   "outputs": [],
   "source": [
    "md=4 \n",
    "mss=5\n",
    "dt_pipe=Pipeline([\n",
    "    ('mms',MinMaxScaler()),\n",
    "    ('pf',PolynomialFeatures(include_bias=False)),\n",
    "    ('dt',DecisionTreeRegressor(max_depth=md,min_samples_split=mss,random_state=42))\n",
    "])"
   ]
  },
  {
   "cell_type": "markdown",
   "metadata": {},
   "source": [
    "##### Decision Tree Regression Scores"
   ]
  },
  {
   "cell_type": "code",
   "execution_count": 127,
   "metadata": {},
   "outputs": [
    {
     "name": "stdout",
     "output_type": "stream",
     "text": [
      "train score: 0.9321787612225487\n",
      "val score: -1.0081864781881076\n",
      "cross validate score: -0.84796496793176\n",
      "RMSE train: 2.7949135166904275\n",
      "RMSE val: 16.309777544081186\n"
     ]
    }
   ],
   "source": [
    "pipe_name=dt_pipe.fit(X_train,y_train)\n",
    "print(f'train score: {pipe_name.score(X_train,y_train)}')\n",
    "print(f'val score: {pipe_name.score(X_val,y_val)}')\n",
    "print(f'cross validate score: {cross_val_score(pipe_name, X_train, y_train, cv=5, n_jobs=-1).mean()}')\n",
    "print(f'RMSE train: {mean_squared_error(y_train,pipe_name.predict(X_train),squared=False)}')\n",
    "print(f'RMSE val: {mean_squared_error(y_val,pipe_name.predict(X_val),squared=False)}')\n"
   ]
  },
  {
   "cell_type": "markdown",
   "metadata": {},
   "source": [
    "#### Random Forest Regression Pipeline\n",
    "---"
   ]
  },
  {
   "cell_type": "code",
   "execution_count": 128,
   "metadata": {},
   "outputs": [],
   "source": [
    "rf_pipe=Pipeline([\n",
    "    ('mms',MinMaxScaler()),\n",
    "    ('pf',PolynomialFeatures(include_bias=False)),\n",
    "    ('rf',RandomForestRegressor(random_state=42))\n",
    "])"
   ]
  },
  {
   "cell_type": "markdown",
   "metadata": {},
   "source": [
    "##### Random Forest Regression Scores\n"
   ]
  },
  {
   "cell_type": "code",
   "execution_count": 129,
   "metadata": {},
   "outputs": [
    {
     "name": "stdout",
     "output_type": "stream",
     "text": [
      "train score: 0.8615636994433027\n",
      "val score: 0.015505871695075002\n",
      "cross validate score: -0.1688541967287916\n",
      "RMSE train: 3.993102952146448\n",
      "RMSE val: 11.419644477828545\n"
     ]
    }
   ],
   "source": [
    "pipe_name=rf_pipe.fit(X_train,y_train)\n",
    "print(f'train score: {pipe_name.score(X_train,y_train)}')\n",
    "print(f'val score: {pipe_name.score(X_val,y_val)}')\n",
    "print(f'cross validate score: {cross_val_score(pipe_name, X_train, y_train, cv=5, n_jobs=-1).mean()}')\n",
    "print(f'RMSE train: {mean_squared_error(y_train,pipe_name.predict(X_train),squared=False)}')\n",
    "print(f'RMSE val: {mean_squared_error(y_val,pipe_name.predict(X_val),squared=False)}')\n"
   ]
  },
  {
   "cell_type": "markdown",
   "metadata": {},
   "source": [
    "#### Ada Boost Regression Pipeline\n",
    "---"
   ]
  },
  {
   "cell_type": "code",
   "execution_count": 130,
   "metadata": {},
   "outputs": [],
   "source": [
    "ada_dt=AdaBoostRegressor(base_estimator=dt_pipe,random_state=42)"
   ]
  },
  {
   "cell_type": "markdown",
   "metadata": {},
   "source": [
    "##### Ada Boost Regression Score"
   ]
  },
  {
   "cell_type": "code",
   "execution_count": 131,
   "metadata": {},
   "outputs": [
    {
     "name": "stdout",
     "output_type": "stream",
     "text": [
      "train score: 0.9913659338535946\n",
      "val score: 0.02090739809197184\n",
      "cross validate score: -0.4859929029471031\n",
      "RMSE train: 0.9972250991835281\n",
      "RMSE val: 11.38827387315896\n"
     ]
    }
   ],
   "source": [
    "boost_model=ada_dt.fit(X_train,y_train)\n",
    "print(f'train score: {boost_model.score(X_train,y_train)}')\n",
    "print(f'val score: {boost_model.score(X_val,y_val)}')\n",
    "print(f'cross validate score: {cross_val_score(boost_model, X_train, y_train, cv=5, n_jobs=-1).mean()}')\n",
    "print(f'RMSE train: {mean_squared_error(y_train,boost_model.predict(X_train),squared=False)}')\n",
    "print(f'RMSE val: {mean_squared_error(y_val,boost_model.predict(X_val),squared=False)}')\n"
   ]
  },
  {
   "cell_type": "markdown",
   "metadata": {},
   "source": [
    "#### Gradient Boosting Regression Pipeline\n",
    "---"
   ]
  },
  {
   "cell_type": "code",
   "execution_count": 132,
   "metadata": {},
   "outputs": [],
   "source": [
    "gb_pipe=Pipeline([\n",
    "    ('mms',MinMaxScaler()),\n",
    "    ('pf',PolynomialFeatures(include_bias=False)),\n",
    "    ('gb',GradientBoostingRegressor(random_state=42))\n",
    "])"
   ]
  },
  {
   "cell_type": "markdown",
   "metadata": {},
   "source": [
    "#### Gradient Boosting Regression Scores"
   ]
  },
  {
   "cell_type": "code",
   "execution_count": 133,
   "metadata": {},
   "outputs": [
    {
     "name": "stdout",
     "output_type": "stream",
     "text": [
      "train score: 0.9999992888237811\n",
      "val score: -0.3226444325601139\n",
      "cross validate score: -0.2755707543807797\n",
      "RMSE train: 0.009050532409340336\n",
      "RMSE val: 13.23632957986325\n"
     ]
    }
   ],
   "source": [
    "pipe_name=gb_pipe.fit(X_train,y_train)\n",
    "print(f'train score: {pipe_name.score(X_train,y_train)}')\n",
    "print(f'val score: {pipe_name.score(X_val,y_val)}')\n",
    "print(f'cross validate score: {cross_val_score(pipe_name, X_train, y_train, cv=5, n_jobs=-1).mean()}')\n",
    "print(f'RMSE train: {mean_squared_error(y_train,pipe_name.predict(X_train),squared=False)}')\n",
    "print(f'RMSE val: {mean_squared_error(y_val,pipe_name.predict(X_val),squared=False)}')\n"
   ]
  },
  {
   "cell_type": "markdown",
   "metadata": {},
   "source": [
    "#### All Model Scores \n",
    "----"
   ]
  },
  {
   "cell_type": "code",
   "execution_count": 134,
   "metadata": {},
   "outputs": [],
   "source": [
    "pipes=[lr_pipe,ridge_pipe,en_pipe,knn_pipe,dt_pipe,rf_pipe,ada_dt,gb_pipe]\n",
    "pipes_name=['lr_pipe','ridge_pipe','en_pipe','knn_pipe','dt_pipe','rf_pipe','ada_dt','gb_pipe']\n",
    "results=[]\n",
    "for pipe in pipes:\n",
    "    pipe_fitted=pipe.fit(X_train,y_train)\n",
    "    pipe_train_score=pipe_fitted.score(X_train,y_train)\n",
    "    pipe_test_score=pipe_fitted.score(X_val,y_val)\n",
    "    pipe_fitted_cross_val_score=cross_val_score(pipe_fitted, X_train, y_train, cv=5, n_jobs=-1).mean()\n",
    "    pipe_fitted_RMSE_train=mean_squared_error(y_train,pipe_fitted.predict(X_train),squared=False)\n",
    "    pipe_fitted_RMSE_val=mean_squared_error(y_val,pipe_fitted.predict(X_val),squared=False)\n",
    "    results.append((pipe_train_score,pipe_test_score,pipe_fitted_cross_val_score,pipe_fitted_RMSE_train,pipe_fitted_RMSE_val))\n",
    "df = pd.DataFrame(results)\n",
    "df.insert(0,'name_of_estimator_pipe',pipes_name)\n",
    "df.rename(columns={0:'train_score',1:'test_score',2:'cross_val_score',3:'RMSE_train',4:'RMSE_val'},inplace=True)\n",
    "df\n",
    "df.to_csv('../data/team1_all_var_models.csv',index=False)"
   ]
  },
  {
   "cell_type": "markdown",
   "metadata": {},
   "source": [
    "---"
   ]
  },
  {
   "cell_type": "markdown",
   "metadata": {},
   "source": [
    "### Team 2 (Away Team)"
   ]
  },
  {
   "cell_type": "code",
   "execution_count": 135,
   "metadata": {},
   "outputs": [],
   "source": [
    "#Train-Test-Split"
   ]
  },
  {
   "cell_type": "code",
   "execution_count": 136,
   "metadata": {},
   "outputs": [],
   "source": [
    "X=team2.drop(columns=['date_game','pts'])\n",
    "y=team2['pts']\n",
    "X_train, X_val, y_train, y_val = train_test_split(X, y, test_size=0.20, random_state=42)"
   ]
  },
  {
   "cell_type": "code",
   "execution_count": 137,
   "metadata": {},
   "outputs": [],
   "source": [
    "#baseline score(average score)"
   ]
  },
  {
   "cell_type": "code",
   "execution_count": 138,
   "metadata": {},
   "outputs": [
    {
     "data": {
      "text/plain": [
       "114.5945945945946"
      ]
     },
     "execution_count": 138,
     "metadata": {},
     "output_type": "execute_result"
    }
   ],
   "source": [
    "y.mean()"
   ]
  },
  {
   "cell_type": "markdown",
   "metadata": {},
   "source": [
    "#### Linear Regression Pipeline\n",
    "---"
   ]
  },
  {
   "cell_type": "code",
   "execution_count": 139,
   "metadata": {},
   "outputs": [],
   "source": [
    "lr_pipe=Pipeline([\n",
    "    ('mms',MinMaxScaler()),\n",
    "    ('pf',PolynomialFeatures(include_bias=False)),\n",
    "    ('lr',LinearRegression())\n",
    "])"
   ]
  },
  {
   "cell_type": "markdown",
   "metadata": {},
   "source": [
    "##### Linear Regression Scores"
   ]
  },
  {
   "cell_type": "code",
   "execution_count": 140,
   "metadata": {},
   "outputs": [
    {
     "name": "stdout",
     "output_type": "stream",
     "text": [
      "train score: 1.0\n",
      "val score: 0.24796980326061568\n",
      "cross validate score: -2.2435360853721185\n",
      "RMSE train: 5.330074015153098e-14\n",
      "RMSE val: 9.112858380256315\n"
     ]
    }
   ],
   "source": [
    "pipe_name=lr_pipe.fit(X_train,y_train)\n",
    "print(f'train score: {pipe_name.score(X_train,y_train)}')\n",
    "print(f'val score: {pipe_name.score(X_val,y_val)}')\n",
    "print(f'cross validate score: {cross_val_score(pipe_name, X_train, y_train, cv=5, n_jobs=-1).mean()}')\n",
    "print(f'RMSE train: {mean_squared_error(y_train,pipe_name.predict(X_train),squared=False)}')\n",
    "print(f'RMSE val: {mean_squared_error(y_val,pipe_name.predict(X_val),squared=False)}')\n"
   ]
  },
  {
   "cell_type": "markdown",
   "metadata": {},
   "source": [
    "#### Ridge Regression Pipeline\n",
    "---"
   ]
  },
  {
   "cell_type": "code",
   "execution_count": 141,
   "metadata": {},
   "outputs": [],
   "source": [
    "rl_alphas = np.logspace(-3,0,5, 100)\n",
    "ridge_pipe=Pipeline([\n",
    "    ('mms',MinMaxScaler()),\n",
    "    ('pf',PolynomialFeatures(include_bias=False)),\n",
    "    ('ridge',RidgeCV(alphas=rl_alphas,scoring='r2',cv=5))\n",
    "])"
   ]
  },
  {
   "cell_type": "markdown",
   "metadata": {},
   "source": [
    "##### Ridge Regression Scores"
   ]
  },
  {
   "cell_type": "code",
   "execution_count": 142,
   "metadata": {},
   "outputs": [
    {
     "name": "stdout",
     "output_type": "stream",
     "text": [
      "train score: 0.99822805885722\n",
      "val score: 0.2560531786790028\n",
      "cross validate score: -2.1265994262354213\n",
      "RMSE train: 0.5264481742287678\n",
      "RMSE val: 9.06375019822038\n"
     ]
    }
   ],
   "source": [
    "pipe_name=ridge_pipe.fit(X_train,y_train)\n",
    "print(f'train score: {pipe_name.score(X_train,y_train)}')\n",
    "print(f'val score: {pipe_name.score(X_val,y_val)}')\n",
    "print(f'cross validate score: {cross_val_score(pipe_name, X_train, y_train, cv=5, n_jobs=-1).mean()}')\n",
    "print(f'RMSE train: {mean_squared_error(y_train,pipe_name.predict(X_train),squared=False)}')\n",
    "print(f'RMSE val: {mean_squared_error(y_val,pipe_name.predict(X_val),squared=False)}')\n"
   ]
  },
  {
   "cell_type": "markdown",
   "metadata": {},
   "source": [
    "#### ElasticNet Regression Pipeline\n",
    "---"
   ]
  },
  {
   "cell_type": "code",
   "execution_count": 143,
   "metadata": {},
   "outputs": [],
   "source": [
    "enet_alphas = np.linspace(0.5, 1.0, 100)\n",
    "enet_ratio = 0.5\n",
    "en_pipe=Pipeline([\n",
    "    ('mms',MinMaxScaler()),\n",
    "    ('pf',PolynomialFeatures(include_bias=False)),\n",
    "    ('en',ElasticNetCV(alphas=enet_alphas,l1_ratio=enet_ratio,cv=5,random_state=42))\n",
    "])"
   ]
  },
  {
   "cell_type": "markdown",
   "metadata": {},
   "source": [
    "##### ElasticNet Regression Scores"
   ]
  },
  {
   "cell_type": "code",
   "execution_count": 144,
   "metadata": {},
   "outputs": [
    {
     "name": "stdout",
     "output_type": "stream",
     "text": [
      "train score: 0.09681512362551525\n",
      "val score: -0.08549652050797496\n",
      "cross validate score: -0.7639143136658403\n",
      "RMSE train: 11.885550624303283\n",
      "RMSE val: 10.948413695050103\n"
     ]
    }
   ],
   "source": [
    "pipe_name=en_pipe.fit(X_train,y_train)\n",
    "print(f'train score: {pipe_name.score(X_train,y_train)}')\n",
    "print(f'val score: {pipe_name.score(X_val,y_val)}')\n",
    "print(f'cross validate score: {cross_val_score(pipe_name, X_train, y_train, cv=5, n_jobs=-1).mean()}')\n",
    "print(f'RMSE train: {mean_squared_error(y_train,pipe_name.predict(X_train),squared=False)}')\n",
    "print(f'RMSE val: {mean_squared_error(y_val,pipe_name.predict(X_val),squared=False)}')\n"
   ]
  },
  {
   "cell_type": "markdown",
   "metadata": {},
   "source": [
    "#### K-Nearest Neighbor Regression Pipeline\n",
    "---"
   ]
  },
  {
   "cell_type": "code",
   "execution_count": 145,
   "metadata": {},
   "outputs": [],
   "source": [
    "knn_pipe=Pipeline([\n",
    "    ('mms',MinMaxScaler()),\n",
    "    ('pf',PolynomialFeatures(include_bias=False)),\n",
    "    ('knn',KNeighborsRegressor())\n",
    "])"
   ]
  },
  {
   "cell_type": "markdown",
   "metadata": {},
   "source": [
    "##### K-Nearest Neighbor Scores"
   ]
  },
  {
   "cell_type": "code",
   "execution_count": 146,
   "metadata": {},
   "outputs": [
    {
     "name": "stdout",
     "output_type": "stream",
     "text": [
      "train score: 0.20799603276641065\n",
      "val score: -0.29562907510263203\n",
      "cross validate score: -0.7127072800065423\n",
      "RMSE train: 11.129986979753909\n",
      "RMSE val: 11.961270835492355\n"
     ]
    }
   ],
   "source": [
    "pipe_name=knn_pipe.fit(X_train,y_train)\n",
    "print(f'train score: {pipe_name.score(X_train,y_train)}')\n",
    "print(f'val score: {pipe_name.score(X_val,y_val)}')\n",
    "print(f'cross validate score: {cross_val_score(pipe_name, X_train, y_train, cv=5, n_jobs=-1).mean()}')\n",
    "print(f'RMSE train: {mean_squared_error(y_train,pipe_name.predict(X_train),squared=False)}')\n",
    "print(f'RMSE val: {mean_squared_error(y_val,pipe_name.predict(X_val),squared=False)}')\n"
   ]
  },
  {
   "cell_type": "markdown",
   "metadata": {},
   "source": [
    "#### Decision Tree Regression Pipeline\n",
    "---"
   ]
  },
  {
   "cell_type": "code",
   "execution_count": 147,
   "metadata": {},
   "outputs": [],
   "source": [
    "md=4 \n",
    "mss=5\n",
    "dt_pipe=Pipeline([\n",
    "    ('mms',MinMaxScaler()),\n",
    "    ('pf',PolynomialFeatures(include_bias=False)),\n",
    "    ('dt',DecisionTreeRegressor(max_depth=md,min_samples_split=mss,random_state=42))\n",
    "])"
   ]
  },
  {
   "cell_type": "markdown",
   "metadata": {},
   "source": [
    "##### Decision Tree Regression Scores"
   ]
  },
  {
   "cell_type": "code",
   "execution_count": 148,
   "metadata": {},
   "outputs": [
    {
     "name": "stdout",
     "output_type": "stream",
     "text": [
      "train score: 0.8495307679255811\n",
      "val score: -1.3675765574441967\n",
      "cross validate score: -2.0374708107273554\n",
      "RMSE train: 4.851263117347572\n",
      "RMSE val: 16.169217275944575\n"
     ]
    }
   ],
   "source": [
    "pipe_name=dt_pipe.fit(X_train,y_train)\n",
    "print(f'train score: {pipe_name.score(X_train,y_train)}')\n",
    "print(f'val score: {pipe_name.score(X_val,y_val)}')\n",
    "print(f'cross validate score: {cross_val_score(pipe_name, X_train, y_train, cv=5, n_jobs=-1).mean()}')\n",
    "print(f'RMSE train: {mean_squared_error(y_train,pipe_name.predict(X_train),squared=False)}')\n",
    "print(f'RMSE val: {mean_squared_error(y_val,pipe_name.predict(X_val),squared=False)}')\n"
   ]
  },
  {
   "cell_type": "markdown",
   "metadata": {},
   "source": [
    "#### Random Forest Regression Pipeline\n",
    "---"
   ]
  },
  {
   "cell_type": "code",
   "execution_count": 149,
   "metadata": {},
   "outputs": [],
   "source": [
    "rf_pipe=Pipeline([\n",
    "    ('mms',MinMaxScaler()),\n",
    "    ('pf',PolynomialFeatures(include_bias=False)),\n",
    "    ('rf',RandomForestRegressor(random_state=42))\n",
    "])"
   ]
  },
  {
   "cell_type": "markdown",
   "metadata": {},
   "source": [
    "##### Random Forest Regression Scores\n"
   ]
  },
  {
   "cell_type": "code",
   "execution_count": 150,
   "metadata": {},
   "outputs": [
    {
     "name": "stdout",
     "output_type": "stream",
     "text": [
      "train score: 0.845601911067847\n",
      "val score: -0.1288836633663364\n",
      "cross validate score: -0.7267325694131873\n",
      "RMSE train: 4.914189934451498\n",
      "RMSE val: 11.165073219643478\n"
     ]
    }
   ],
   "source": [
    "pipe_name=rf_pipe.fit(X_train,y_train)\n",
    "print(f'train score: {pipe_name.score(X_train,y_train)}')\n",
    "print(f'val score: {pipe_name.score(X_val,y_val)}')\n",
    "print(f'cross validate score: {cross_val_score(pipe_name, X_train, y_train, cv=5, n_jobs=-1).mean()}')\n",
    "print(f'RMSE train: {mean_squared_error(y_train,pipe_name.predict(X_train),squared=False)}')\n",
    "print(f'RMSE val: {mean_squared_error(y_val,pipe_name.predict(X_val),squared=False)}')\n"
   ]
  },
  {
   "cell_type": "markdown",
   "metadata": {},
   "source": [
    "#### Ada Boost Regression Pipeline\n",
    "---"
   ]
  },
  {
   "cell_type": "code",
   "execution_count": 151,
   "metadata": {},
   "outputs": [],
   "source": [
    "ada_dt=AdaBoostRegressor(base_estimator=dt_pipe,random_state=42)"
   ]
  },
  {
   "cell_type": "markdown",
   "metadata": {},
   "source": [
    "##### Ada Boost Regression Score"
   ]
  },
  {
   "cell_type": "code",
   "execution_count": 152,
   "metadata": {},
   "outputs": [
    {
     "name": "stdout",
     "output_type": "stream",
     "text": [
      "train score: 0.9892929015365628\n",
      "val score: -0.10945295357364304\n",
      "cross validate score: -1.156373101705609\n",
      "RMSE train: 1.2940971358936406\n",
      "RMSE val: 11.068567725167764\n"
     ]
    }
   ],
   "source": [
    "boost_model=ada_dt.fit(X_train,y_train)\n",
    "print(f'train score: {boost_model.score(X_train,y_train)}')\n",
    "print(f'val score: {boost_model.score(X_val,y_val)}')\n",
    "print(f'cross validate score: {cross_val_score(boost_model, X_train, y_train, cv=5, n_jobs=-1).mean()}')\n",
    "print(f'RMSE train: {mean_squared_error(y_train,boost_model.predict(X_train),squared=False)}')\n",
    "print(f'RMSE val: {mean_squared_error(y_val,boost_model.predict(X_val),squared=False)}')\n"
   ]
  },
  {
   "cell_type": "markdown",
   "metadata": {},
   "source": [
    "#### Gradient Boosting Regression Pipeline\n",
    "---"
   ]
  },
  {
   "cell_type": "code",
   "execution_count": 153,
   "metadata": {},
   "outputs": [],
   "source": [
    "gb_pipe=Pipeline([\n",
    "    ('mms',MinMaxScaler()),\n",
    "    ('pf',PolynomialFeatures(include_bias=False)),\n",
    "    ('gb',GradientBoostingRegressor(random_state=42))\n",
    "])"
   ]
  },
  {
   "cell_type": "markdown",
   "metadata": {},
   "source": [
    "#### Gradient Boosting Regression Scores"
   ]
  },
  {
   "cell_type": "code",
   "execution_count": 154,
   "metadata": {},
   "outputs": [
    {
     "name": "stdout",
     "output_type": "stream",
     "text": [
      "train score: 0.9999985692053074\n",
      "val score: -0.3997590959284194\n",
      "cross validate score: -0.8906265310077555\n",
      "RMSE train: 0.014959588178529123\n",
      "RMSE val: 12.432647791187614\n"
     ]
    }
   ],
   "source": [
    "pipe_name=gb_pipe.fit(X_train,y_train)\n",
    "print(f'train score: {pipe_name.score(X_train,y_train)}')\n",
    "print(f'val score: {pipe_name.score(X_val,y_val)}')\n",
    "print(f'cross validate score: {cross_val_score(pipe_name, X_train, y_train, cv=5, n_jobs=-1).mean()}')\n",
    "print(f'RMSE train: {mean_squared_error(y_train,pipe_name.predict(X_train),squared=False)}')\n",
    "print(f'RMSE val: {mean_squared_error(y_val,pipe_name.predict(X_val),squared=False)}')\n"
   ]
  },
  {
   "cell_type": "markdown",
   "metadata": {},
   "source": [
    "#### All Model Scores \n",
    "----"
   ]
  },
  {
   "cell_type": "code",
   "execution_count": 155,
   "metadata": {},
   "outputs": [],
   "source": [
    "pipes=[lr_pipe,ridge_pipe,en_pipe,knn_pipe,dt_pipe,rf_pipe,ada_dt,gb_pipe]\n",
    "pipes_name=['lr_pipe','ridge_pipe','en_pipe','knn_pipe','dt_pipe','rf_pipe','ada_dt','gb_pipe']\n",
    "results=[]\n",
    "for pipe in pipes:\n",
    "    pipe_fitted=pipe.fit(X_train,y_train)\n",
    "    pipe_train_score=pipe_fitted.score(X_train,y_train)\n",
    "    pipe_test_score=pipe_fitted.score(X_val,y_val)\n",
    "    pipe_fitted_cross_val_score=cross_val_score(pipe_fitted, X_train, y_train, cv=5, n_jobs=-1).mean()\n",
    "    pipe_fitted_RMSE_train=mean_squared_error(y_train,pipe_fitted.predict(X_train),squared=False)\n",
    "    pipe_fitted_RMSE_val=mean_squared_error(y_val,pipe_fitted.predict(X_val),squared=False)\n",
    "    results.append((pipe_train_score,pipe_test_score,pipe_fitted_cross_val_score,pipe_fitted_RMSE_train,pipe_fitted_RMSE_val))\n",
    "df = pd.DataFrame(results)\n",
    "df.insert(0,'name_of_estimator_pipe',pipes_name)\n",
    "df.rename(columns={0:'train_score',1:'test_score',2:'cross_val_score',3:'RMSE_train',4:'RMSE_val'},inplace=True)\n",
    "df\n",
    "df.to_csv('../data/team2_all_var_models.csv',index=False)"
   ]
  },
  {
   "cell_type": "markdown",
   "metadata": {},
   "source": [
    "---"
   ]
  }
 ],
 "metadata": {
  "kernelspec": {
   "display_name": "Python 3",
   "language": "python",
   "name": "python3"
  },
  "language_info": {
   "codemirror_mode": {
    "name": "ipython",
    "version": 3
   },
   "file_extension": ".py",
   "mimetype": "text/x-python",
   "name": "python",
   "nbconvert_exporter": "python",
   "pygments_lexer": "ipython3",
   "version": "3.8.5"
  }
 },
 "nbformat": 4,
 "nbformat_minor": 4
}
