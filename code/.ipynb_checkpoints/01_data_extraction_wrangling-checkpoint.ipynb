{
 "cells": [
  {
   "cell_type": "markdown",
   "metadata": {},
   "source": [
    "<img src=\"https://imgur.com/3Ua9VYU.png\" style=\"float: left; margin: 18px; height: 75px\"> \n",
    "\n",
    "# Data Extraction & Wrangling\n",
    "---"
   ]
  },
  {
   "cell_type": "markdown",
   "metadata": {},
   "source": [
    "## NBA Game Total Score Prediction\n",
    "---\n",
    "## Problem Statement\n",
    "With the unpredictability in sports, there is never be an sure-fire winning sportsbet.\n",
    "The goal of this project is to create a model that returns the expected totals of upcoming NBA matchups and comparing that to Over/Under bets from different sportsbooks, recommending whether the total will fall within the over or under line and by how much. Ultimately giving players somewhat of an analysis and upperhand when betting on sportsbooks. To create the expected value for the total of the game, we will be implementing machine learning models on previous NBA game data. Choosing the model with the best testing score.\n",
    "---"
   ]
  },
  {
   "cell_type": "markdown",
   "metadata": {},
   "source": [
    "### Importing Libraries & API key\n",
    "---"
   ]
  },
  {
   "cell_type": "code",
   "execution_count": 88,
   "metadata": {},
   "outputs": [],
   "source": [
    "import major_key_alert #personal API key .py file\n",
    "odds_api_key=major_key_alert.odds_key  #personal API key .py file\n",
    "import requests\n",
    "import pandas as pd\n",
    "from bs4 import BeautifulSoup"
   ]
  },
  {
   "cell_type": "markdown",
   "metadata": {},
   "source": [
    "---\n",
    "### API for Upcoming NBA Games\n",
    "---"
   ]
  },
  {
   "cell_type": "code",
   "execution_count": 89,
   "metadata": {},
   "outputs": [],
   "source": [
    "def odds_data(sportkey,api_key,regions,markets,odds_format,bookmakers):\n",
    "    url=f'https://api.the-odds-api.com/v4/sports/{sportkey}/odds'\n",
    "    #sport keys can be found at https://the-odds-api.com/liveapi/guides/v4/#overview\n",
    "    params={\n",
    "        'api_key': api_key, #api key\n",
    "        'regions': regions, #region of bookmakers(sites)- us/uk/au/eu\n",
    "        'markets': markets, #odds market- moneyline/spreads/totals/outrights\n",
    "        'oddsFormat': odds_format, #decimal or american\n",
    "        'bookmakers': bookmakers #bookmakers/site\n",
    "    }\n",
    "    res=requests.get(url,params)\n",
    "    if res.status_code != 200: \n",
    "        return f'Error {res.status_code}: please review the input! Try again.' \n",
    "    else:\n",
    "        rows = []\n",
    "  \n",
    "        for data in res.json():\n",
    "            data_id = data['id']\n",
    "            data_sport_title=data['sport_title']\n",
    "            data_commence_time=data['commence_time']\n",
    "            data_home_team=data['home_team']\n",
    "            data_away_team=data['away_team']\n",
    "\n",
    "            data_bookmakers = data['bookmakers']\n",
    "\n",
    "            for data2 in data_bookmakers:\n",
    "                data2_title=data2['title']\n",
    "                data2_last_update=data2['last_update']\n",
    "\n",
    "                data2_markets=data2['markets']\n",
    "\n",
    "                for data3 in data2_markets:\n",
    "                    data3_key=data3['key']\n",
    "\n",
    "                    data3_outcomes=data3['outcomes']\n",
    "\n",
    "                    for row in data3_outcomes:\n",
    "                        row['id']=data_id\n",
    "                        row['sport_title']=data_sport_title\n",
    "                        row['commence_time']=data_commence_time\n",
    "                        row['home_team']=data_home_team\n",
    "                        row['away_team']=data_away_team\n",
    "\n",
    "                        row['title']=data2_title\n",
    "                        row['last_update']=data2_last_update\n",
    "\n",
    "                        rows.append(row)\n",
    "        df = pd.DataFrame(rows)\n",
    "        \n",
    "    return df"
   ]
  },
  {
   "cell_type": "markdown",
   "metadata": {},
   "source": [
    "#### API parameters for Fanduel NBA Total Odds"
   ]
  },
  {
   "cell_type": "code",
   "execution_count": 90,
   "metadata": {},
   "outputs": [],
   "source": [
    "sportkey='basketball_nba' #sport keys can be found at https://the-odds-api.com/liveapi/guides/v4/#overview\n",
    "api_key=odds_api_key #personal API key\n",
    "regions='us' #region of bookmakers(sites)- us/uk/au/eu\n",
    "markets='totals' #odds market- moneyline/spreads/totals/outrights\n",
    "odds_format='american' #decimal or american\n",
    "bookmakers1='fanduel' #bookmakers/site\n",
    "fanduel=odds_data(sportkey,api_key,regions,markets,odds_format,bookmakers1)"
   ]
  },
  {
   "cell_type": "markdown",
   "metadata": {},
   "source": [
    "#### Upcoming NBA Matchups and Over/Under line "
   ]
  },
  {
   "cell_type": "code",
   "execution_count": 94,
   "metadata": {},
   "outputs": [
    {
     "data": {
      "text/html": [
       "<div>\n",
       "<style scoped>\n",
       "    .dataframe tbody tr th:only-of-type {\n",
       "        vertical-align: middle;\n",
       "    }\n",
       "\n",
       "    .dataframe tbody tr th {\n",
       "        vertical-align: top;\n",
       "    }\n",
       "\n",
       "    .dataframe thead th {\n",
       "        text-align: right;\n",
       "    }\n",
       "</style>\n",
       "<table border=\"1\" class=\"dataframe\">\n",
       "  <thead>\n",
       "    <tr style=\"text-align: right;\">\n",
       "      <th></th>\n",
       "      <th>home_team</th>\n",
       "      <th>away_team</th>\n",
       "      <th>point</th>\n",
       "    </tr>\n",
       "  </thead>\n",
       "  <tbody>\n",
       "    <tr>\n",
       "      <th>0</th>\n",
       "      <td>Orlando Magic</td>\n",
       "      <td>Atlanta Hawks</td>\n",
       "      <td>225.0</td>\n",
       "    </tr>\n",
       "    <tr>\n",
       "      <th>1</th>\n",
       "      <td>Charlotte Hornets</td>\n",
       "      <td>Detroit Pistons</td>\n",
       "      <td>227.5</td>\n",
       "    </tr>\n",
       "    <tr>\n",
       "      <th>2</th>\n",
       "      <td>Indiana Pacers</td>\n",
       "      <td>Golden State Warriors</td>\n",
       "      <td>238.0</td>\n",
       "    </tr>\n",
       "    <tr>\n",
       "      <th>3</th>\n",
       "      <td>Chicago Bulls</td>\n",
       "      <td>New York Knicks</td>\n",
       "      <td>225.5</td>\n",
       "    </tr>\n",
       "    <tr>\n",
       "      <th>4</th>\n",
       "      <td>Toronto Raptors</td>\n",
       "      <td>Sacramento Kings</td>\n",
       "      <td>232.5</td>\n",
       "    </tr>\n",
       "    <tr>\n",
       "      <th>5</th>\n",
       "      <td>Oklahoma City Thunder</td>\n",
       "      <td>Miami Heat</td>\n",
       "      <td>223.5</td>\n",
       "    </tr>\n",
       "    <tr>\n",
       "      <th>6</th>\n",
       "      <td>San Antonio Spurs</td>\n",
       "      <td>Portland Trail Blazers</td>\n",
       "      <td>230.0</td>\n",
       "    </tr>\n",
       "    <tr>\n",
       "      <th>7</th>\n",
       "      <td>Dallas Mavericks</td>\n",
       "      <td>Cleveland Cavaliers</td>\n",
       "      <td>215.5</td>\n",
       "    </tr>\n",
       "    <tr>\n",
       "      <th>8</th>\n",
       "      <td>Denver Nuggets</td>\n",
       "      <td>Washington Wizards</td>\n",
       "      <td>226.0</td>\n",
       "    </tr>\n",
       "    <tr>\n",
       "      <th>9</th>\n",
       "      <td>Los Angeles Clippers</td>\n",
       "      <td>Minnesota Timberwolves</td>\n",
       "      <td>222.5</td>\n",
       "    </tr>\n",
       "  </tbody>\n",
       "</table>\n",
       "</div>"
      ],
      "text/plain": [
       "               home_team               away_team  point\n",
       "0          Orlando Magic           Atlanta Hawks  225.0\n",
       "1      Charlotte Hornets         Detroit Pistons  227.5\n",
       "2         Indiana Pacers   Golden State Warriors  238.0\n",
       "3          Chicago Bulls         New York Knicks  225.5\n",
       "4        Toronto Raptors        Sacramento Kings  232.5\n",
       "5  Oklahoma City Thunder              Miami Heat  223.5\n",
       "6      San Antonio Spurs  Portland Trail Blazers  230.0\n",
       "7       Dallas Mavericks     Cleveland Cavaliers  215.5\n",
       "8         Denver Nuggets      Washington Wizards  226.0\n",
       "9   Los Angeles Clippers  Minnesota Timberwolves  222.5"
      ]
     },
     "execution_count": 94,
     "metadata": {},
     "output_type": "execute_result"
    }
   ],
   "source": [
    "matchups=fanduel[['home_team','away_team','point']].drop_duplicates(ignore_index=True)\n",
    "matchups"
   ]
  },
  {
   "cell_type": "markdown",
   "metadata": {},
   "source": [
    "#### Creating Dictionary for Mapping"
   ]
  },
  {
   "cell_type": "code",
   "execution_count": 95,
   "metadata": {},
   "outputs": [
    {
     "data": {
      "text/plain": [
       "{'Atlanta Hawks': 'ATL',\n",
       " 'Brooklyn Nets': 'BRK',\n",
       " 'Boston Celtics': 'BOS',\n",
       " 'Charlotte Hornets': 'CHO',\n",
       " 'Chicago Bulls': 'CHI',\n",
       " 'Cleveland Cavaliers': 'CLE',\n",
       " 'Dallas Mavericks': 'DAL',\n",
       " 'Denver Nuggets': 'DEN',\n",
       " 'Detroit Pistons': 'DET',\n",
       " 'Golden State Warriors': 'GSW',\n",
       " 'Houston Rockets': 'HOU',\n",
       " 'Indiana Pacers': 'IND',\n",
       " 'Los Angeles Clippers': 'LAC',\n",
       " 'Los Angeles Lakers': 'LAL',\n",
       " 'Memphis Grizzlies': 'MEM',\n",
       " 'Miami Heat': 'MIA',\n",
       " 'Milwaukee Bucks': 'MIL',\n",
       " 'Minnesota Timberwolves': 'MIN',\n",
       " 'New Orleans Pelicans': 'NOP',\n",
       " 'New York Knicks': 'NYK',\n",
       " 'Oklahoma City Thunder': 'OKC',\n",
       " 'Orlando Magic': 'ORL',\n",
       " 'Philadelphia 76ers': 'PHI',\n",
       " 'Phoenix Suns': 'PHO',\n",
       " 'Portland Trail Blazers': 'POR',\n",
       " 'Sacramento Kings': 'SAC',\n",
       " 'San Antonio Spurs': 'SAS',\n",
       " 'Toronto Raptors': 'TOR',\n",
       " 'Utah Jazz': 'UTA',\n",
       " 'Washington Wizards': 'WAS'}"
      ]
     },
     "execution_count": 95,
     "metadata": {},
     "output_type": "execute_result"
    }
   ],
   "source": [
    "team_abrv_url='https://en.wikipedia.org/wiki/Wikipedia:WikiProject_National_Basketball_Association/National_Basketball_Association_team_abbreviations'\n",
    "team_abrv_res=requests.get(team_abrv_url)\n",
    "team_abrv_soup=BeautifulSoup(team_abrv_res.text)\n",
    "team_abrv_tbl=team_abrv_soup.find('table')\n",
    "\n",
    "teams_abrv={row.find('a').attrs['title']:row.find('td').text[:-1] for row in team_abrv_tbl.find('tbody').find_all('tr')[1:]}\n",
    "\n",
    "teams_abrv.update({'Brooklyn Nets':'BRK'})\n",
    "teams_abrv.update({'Charlotte Hornets':'CHO'})\n",
    "teams_abrv.update({'Phoenix Suns':'PHO'})\n",
    "teams_abrv"
   ]
  },
  {
   "cell_type": "markdown",
   "metadata": {},
   "source": [
    "#### Mapping Matchups "
   ]
  },
  {
   "cell_type": "code",
   "execution_count": 106,
   "metadata": {},
   "outputs": [],
   "source": [
    "matchups.replace({'home_team':teams_abrv,'away_team':teams_abrv},inplace=True)"
   ]
  },
  {
   "cell_type": "markdown",
   "metadata": {},
   "source": [
    "#### Export as CSV"
   ]
  },
  {
   "cell_type": "code",
   "execution_count": 108,
   "metadata": {},
   "outputs": [],
   "source": [
    "matchups.to_csv('../data/matchups.csv',index=False)"
   ]
  },
  {
   "cell_type": "markdown",
   "metadata": {},
   "source": [
    "---\n",
    "### Team Data Webscraper\n",
    "---"
   ]
  },
  {
   "cell_type": "code",
   "execution_count": 111,
   "metadata": {},
   "outputs": [],
   "source": [
    "def game_data(team_abrv,season):\n",
    "    url=f'https://www.basketball-reference.com/teams/{team_abrv}/{season}/gamelog/'\n",
    "    res=requests.get(url)\n",
    "    if res.status_code != 200: \n",
    "        return f'Error {res.status_code}: please review the input! Try again.' \n",
    "    else:\n",
    "        soup=BeautifulSoup(res.text)\n",
    "        teams = []\n",
    "        stats=['date_game','pts','fg','fga','fg_pct','fg3','fg3a','fg3_pct','ft','fta','ft_pct','trb','ast','stl','blk','tov']\n",
    "        tbl=soup.find('table')\n",
    "        trs=tbl.find('tbody').find_all('tr')\n",
    "        for tr in trs:\n",
    "            df_col={}\n",
    "            for num in range(0,len(stats)):\n",
    "                df_col[stats[num]]=tr.find(attrs={'data-stat':stats[num]})\n",
    "            for num in range(1,len(stats)):\n",
    "                df_col[f'opp_{stats[num]}']=tr.find(attrs={'data-stat':f'opp_{stats[num]}'})\n",
    "\n",
    "            teams.append(df_col)\n",
    "\n",
    "        df=pd.DataFrame(teams)\n",
    "        \n",
    "        df.dropna(inplace=True)\n",
    "        df=df.applymap(lambda x: x.text)\n",
    "        df=df[df.date_game!='Date']\n",
    "        df=df.astype({'date_game':'datetime64[ns]','pts':'int64','fg':'int64','fga':'int64','fg_pct':'float64','fg3':'int64','fg3a':'int64','fg3_pct':'float64',\n",
    "        'ft':'int64','fta':'int64','ft_pct':'float64','trb':'int64','ast':'int64','stl':'int64','blk':'int64','tov':'int64',\n",
    "        'opp_pts':'int64','opp_fg':'int64','opp_fga':'int64','opp_fg_pct':'float64','opp_fg3':'int64','opp_fg3a':'int64','opp_fg3_pct':'float64',\n",
    "        'opp_ft':'int64','opp_fta':'int64','opp_ft_pct':'float64','opp_trb':'int64','opp_ast':'int64','opp_stl':'int64','opp_blk':'int64','opp_tov':'int64'})\n",
    "        \n",
    "        df=df.sort_values(by=['date_game'],ascending=False)\n",
    "        \n",
    "        outdf=pd.DataFrame(df[['date_game','pts']])\n",
    "        for num in [1,3,6,8]:\n",
    "            rolsums=df.rolling(num).sum().add_prefix(f'last{num}sum_')\n",
    "            rolsums['date_game']=df['date_game'].shift(num)\n",
    "            out1=rolsums[num:]\n",
    "\n",
    "            outdf=pd.merge(outdf,out1,on='date_game')\n",
    "    return outdf\n"
   ]
  },
  {
   "cell_type": "markdown",
   "metadata": {},
   "source": [
    "#### Webscraping Home and Away Team Data"
   ]
  },
  {
   "cell_type": "code",
   "execution_count": 112,
   "metadata": {},
   "outputs": [],
   "source": [
    "team_abrv1=matchups['home_team'][0]\n",
    "team_abrv2=matchups['away_team'][0]\n",
    "team1=game_data(team_abrv1,'2022')\n",
    "team2=game_data(team_abrv2,'2022')\n",
    "team1.to_csv('../data/team1data.csv',index=False)\n",
    "team2.to_csv('../data/team2data.csv',index=False)\n"
   ]
  },
  {
   "cell_type": "markdown",
   "metadata": {},
   "source": [
    "#### Upcoming Game Data (Prediction Data)"
   ]
  },
  {
   "cell_type": "code",
   "execution_count": 118,
   "metadata": {},
   "outputs": [],
   "source": [
    "def recent_game_data(team_abrv,season):\n",
    "    url=f'https://www.basketball-reference.com/teams/{team_abrv}/{season}/gamelog/'\n",
    "    res=requests.get(url)\n",
    "    if res.status_code != 200: \n",
    "        return f'Error {res.status_code}: please review the input! Try again.' \n",
    "    else:\n",
    "        soup=BeautifulSoup(res.text)\n",
    "        teams = []\n",
    "        stats=['date_game','pts','fg','fga','fg_pct','fg3','fg3a','fg3_pct','ft','fta','ft_pct','trb','ast','stl','blk','tov']\n",
    "        tbl=soup.find('table')\n",
    "        trs=tbl.find('tbody').find_all('tr')\n",
    "        for tr in trs:\n",
    "            df_col={}\n",
    "            for num in range(0,len(stats)):\n",
    "                df_col[stats[num]]=tr.find(attrs={'data-stat':stats[num]})\n",
    "            for num in range(1,len(stats)):\n",
    "                df_col[f'opp_{stats[num]}']=tr.find(attrs={'data-stat':f'opp_{stats[num]}'})\n",
    "\n",
    "            teams.append(df_col)\n",
    "\n",
    "        df=pd.DataFrame(teams)    \n",
    "        df.dropna(inplace=True)\n",
    "        df=df.applymap(lambda x: x.text)\n",
    "        df=df[df.date_game!='Date']\n",
    "        df=df.astype({'date_game':'datetime64[ns]','pts':'int64','fg':'int64','fga':'int64','fg_pct':'float64','fg3':'int64','fg3a':'int64','fg3_pct':'float64',\n",
    "        'ft':'int64','fta':'int64','ft_pct':'float64','trb':'int64','ast':'int64','stl':'int64','blk':'int64','tov':'int64',\n",
    "        'opp_pts':'int64','opp_fg':'int64','opp_fga':'int64','opp_fg_pct':'float64','opp_fg3':'int64','opp_fg3a':'int64','opp_fg3_pct':'float64',\n",
    "        'opp_ft':'int64','opp_fta':'int64','opp_ft_pct':'float64','opp_trb':'int64','opp_ast':'int64','opp_stl':'int64','opp_blk':'int64','opp_tov':'int64'})\n",
    "        \n",
    "        df=df.sort_values(by=['date_game'],ascending=True)\n",
    "        \n",
    "        outdf=pd.DataFrame(df[['date_game','pts']])\n",
    "        for num in [1,3,6,8]:\n",
    "            rolsums=df.rolling(num).sum().add_prefix(f'last{num}sum_')\n",
    "            rolsums['date_game']=df['date_game']\n",
    "            out1=rolsums[num:]\n",
    "\n",
    "            outdf=pd.merge(outdf,out1,on='date_game')\n",
    "    return outdf.sort_values(by=['date_game'],ascending=False).head(1)\n"
   ]
  },
  {
   "cell_type": "markdown",
   "metadata": {},
   "source": [
    "#### Webscraping Home and Away Upcoming Game Data"
   ]
  },
  {
   "cell_type": "code",
   "execution_count": 119,
   "metadata": {},
   "outputs": [],
   "source": [
    "team1recent=recent_game_data(team_abrv1,'2023')\n",
    "team2recent=recent_game_data(team_abrv2,'2023')\n",
    "team1recent.to_csv('../data/team1recent.csv',index=False)\n",
    "team2recent.to_csv('../data/team2recent.csv',index=False)"
   ]
  },
  {
   "cell_type": "markdown",
   "metadata": {},
   "source": [
    "---"
   ]
  }
 ],
 "metadata": {
  "kernelspec": {
   "display_name": "Python 3",
   "language": "python",
   "name": "python3"
  },
  "language_info": {
   "codemirror_mode": {
    "name": "ipython",
    "version": 3
   },
   "file_extension": ".py",
   "mimetype": "text/x-python",
   "name": "python",
   "nbconvert_exporter": "python",
   "pygments_lexer": "ipython3",
   "version": "3.8.5"
  }
 },
 "nbformat": 4,
 "nbformat_minor": 4
}
