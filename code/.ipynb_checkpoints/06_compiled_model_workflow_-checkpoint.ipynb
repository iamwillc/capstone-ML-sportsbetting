{
 "cells": [
  {
   "cell_type": "markdown",
   "metadata": {},
   "source": [
    "<img src=\"https://imgur.com/3Ua9VYU.png\" style=\"float: left; margin: 18px; height: 75px\"> \n",
    "\n",
    "# Compiled Model Workflow\n",
    "---"
   ]
  },
  {
   "cell_type": "markdown",
   "metadata": {},
   "source": [
    "## NBA Game Total Score Prediction\n",
    "---\n",
    "## Problem Statement\n",
    "With the unpredictability in sports, there is never be an sure-fire winning sportsbet.\n",
    "The goal of this project is to create a model that returns the expected totals of upcoming NBA matchups and comparing that to Over/Under bets from different sportsbooks, recommending whether the total will fall within the over or under line and by how much. Ultimately giving players somewhat of an analysis and upperhand when betting on sportsbooks. To create the expected value for the total of the game, we will be implementing machine learning models on previous NBA game data. Choosing the model with the best testing score.\n",
    "---"
   ]
  },
  {
   "cell_type": "markdown",
   "metadata": {},
   "source": [
    "### Importing Libraries, Data, and API key\n",
    "---"
   ]
  },
  {
   "cell_type": "code",
   "execution_count": 361,
   "metadata": {},
   "outputs": [],
   "source": [
    "import major_key_alert  #personal API key .py file\n",
    "odds_api_key=major_key_alert.odds_key  #personal API key .py file\n",
    "import requests\n",
    "from bs4 import BeautifulSoup\n",
    "\n",
    "import pandas as pd\n",
    "import numpy as np\n",
    "import matplotlib.pyplot as plt\n",
    "from sklearn.model_selection import train_test_split, cross_val_score\n",
    "from sklearn.preprocessing import PolynomialFeatures,StandardScaler,MinMaxScaler\n",
    "from sklearn.pipeline import Pipeline\n",
    "from sklearn.linear_model import LinearRegression,RidgeCV,LassoCV,ElasticNetCV\n",
    "from sklearn.compose import ColumnTransformer\n",
    "from sklearn.neighbors import KNeighborsRegressor\n",
    "from sklearn.tree import DecisionTreeRegressor,plot_tree\n",
    "from sklearn.ensemble import RandomForestRegressor,AdaBoostRegressor,GradientBoostingRegressor\n",
    "from sklearn.metrics import mean_squared_error"
   ]
  },
  {
   "cell_type": "markdown",
   "metadata": {},
   "source": [
    "---\n",
    "### API for Upcoming NBA Games\n",
    "---"
   ]
  },
  {
   "cell_type": "code",
   "execution_count": 362,
   "metadata": {},
   "outputs": [],
   "source": [
    "def odds_data(sportkey,api_key,regions,markets,odds_format,bookmakers):\n",
    "    url=f'https://api.the-odds-api.com/v4/sports/{sportkey}/odds'\n",
    "    #sport keys can be found at https://the-odds-api.com/liveapi/guides/v4/#overview\n",
    "    params={\n",
    "        'api_key': api_key, #api key\n",
    "        'regions': regions, #region of bookmakers(sites)- us/uk/au/eu\n",
    "        'markets': markets, #odds market- moneyline/spreads/totals/outrights\n",
    "        'oddsFormat': odds_format, #decimal or american\n",
    "        'bookmakers': bookmakers #bookmakers/site\n",
    "    }\n",
    "    res=requests.get(url,params)\n",
    "    if res.status_code != 200: \n",
    "        return f'Error {res.status_code}: please review the input! Try again.' \n",
    "    else:\n",
    "        rows = []\n",
    "  \n",
    "        for data in res.json():\n",
    "            data_id = data['id']\n",
    "            data_sport_title=data['sport_title']\n",
    "            data_commence_time=data['commence_time']\n",
    "            data_home_team=data['home_team']\n",
    "            data_away_team=data['away_team']\n",
    "\n",
    "            data_bookmakers = data['bookmakers']\n",
    "\n",
    "            for data2 in data_bookmakers:\n",
    "                data2_title=data2['title']\n",
    "                data2_last_update=data2['last_update']\n",
    "\n",
    "                data2_markets=data2['markets']\n",
    "\n",
    "                for data3 in data2_markets:\n",
    "                    data3_key=data3['key']\n",
    "\n",
    "                    data3_outcomes=data3['outcomes']\n",
    "\n",
    "                    for row in data3_outcomes:\n",
    "                        row['id']=data_id\n",
    "                        row['sport_title']=data_sport_title\n",
    "                        row['commence_time']=data_commence_time\n",
    "                        row['home_team']=data_home_team\n",
    "                        row['away_team']=data_away_team\n",
    "\n",
    "                        row['title']=data2_title\n",
    "                        row['last_update']=data2_last_update\n",
    "\n",
    "                        rows.append(row)\n",
    "        df = pd.DataFrame(rows)\n",
    "        \n",
    "    return df"
   ]
  },
  {
   "cell_type": "markdown",
   "metadata": {},
   "source": [
    "#### API parameters for Fanduel NBA Total Odds"
   ]
  },
  {
   "cell_type": "code",
   "execution_count": 363,
   "metadata": {},
   "outputs": [],
   "source": [
    "sportkey='basketball_nba' #sport keys can be found at https://the-odds-api.com/liveapi/guides/v4/#overview\n",
    "api_key=odds_api_key #personal API key\n",
    "regions='us' #region of bookmakers(sites)- us/uk/au/eu\n",
    "markets='totals' #odds market- moneyline/spreads/totals/outrights\n",
    "odds_format='american' #decimal or american\n",
    "bookmakers1='fanduel' #bookmakers/site\n",
    "fanduel=odds_data(sportkey,api_key,regions,markets,odds_format,bookmakers1)"
   ]
  },
  {
   "cell_type": "markdown",
   "metadata": {},
   "source": [
    "#### Upcoming NBA Matchups and Over/Under line "
   ]
  },
  {
   "cell_type": "code",
   "execution_count": 364,
   "metadata": {},
   "outputs": [
    {
     "data": {
      "text/html": [
       "<div>\n",
       "<style scoped>\n",
       "    .dataframe tbody tr th:only-of-type {\n",
       "        vertical-align: middle;\n",
       "    }\n",
       "\n",
       "    .dataframe tbody tr th {\n",
       "        vertical-align: top;\n",
       "    }\n",
       "\n",
       "    .dataframe thead th {\n",
       "        text-align: right;\n",
       "    }\n",
       "</style>\n",
       "<table border=\"1\" class=\"dataframe\">\n",
       "  <thead>\n",
       "    <tr style=\"text-align: right;\">\n",
       "      <th></th>\n",
       "      <th>home_team</th>\n",
       "      <th>away_team</th>\n",
       "      <th>point</th>\n",
       "    </tr>\n",
       "  </thead>\n",
       "  <tbody>\n",
       "    <tr>\n",
       "      <th>0</th>\n",
       "      <td>Orlando Magic</td>\n",
       "      <td>Atlanta Hawks</td>\n",
       "      <td>245.5</td>\n",
       "    </tr>\n",
       "    <tr>\n",
       "      <th>1</th>\n",
       "      <td>Indiana Pacers</td>\n",
       "      <td>Golden State Warriors</td>\n",
       "      <td>237.5</td>\n",
       "    </tr>\n",
       "    <tr>\n",
       "      <th>2</th>\n",
       "      <td>Charlotte Hornets</td>\n",
       "      <td>Detroit Pistons</td>\n",
       "      <td>247.5</td>\n",
       "    </tr>\n",
       "    <tr>\n",
       "      <th>3</th>\n",
       "      <td>Toronto Raptors</td>\n",
       "      <td>Sacramento Kings</td>\n",
       "      <td>230.5</td>\n",
       "    </tr>\n",
       "    <tr>\n",
       "      <th>4</th>\n",
       "      <td>Chicago Bulls</td>\n",
       "      <td>New York Knicks</td>\n",
       "      <td>226.5</td>\n",
       "    </tr>\n",
       "    <tr>\n",
       "      <th>5</th>\n",
       "      <td>Oklahoma City Thunder</td>\n",
       "      <td>Miami Heat</td>\n",
       "      <td>222.5</td>\n",
       "    </tr>\n",
       "    <tr>\n",
       "      <th>6</th>\n",
       "      <td>San Antonio Spurs</td>\n",
       "      <td>Portland Trail Blazers</td>\n",
       "      <td>231.0</td>\n",
       "    </tr>\n",
       "    <tr>\n",
       "      <th>7</th>\n",
       "      <td>Dallas Mavericks</td>\n",
       "      <td>Cleveland Cavaliers</td>\n",
       "      <td>217.0</td>\n",
       "    </tr>\n",
       "    <tr>\n",
       "      <th>8</th>\n",
       "      <td>Denver Nuggets</td>\n",
       "      <td>Washington Wizards</td>\n",
       "      <td>225.0</td>\n",
       "    </tr>\n",
       "    <tr>\n",
       "      <th>9</th>\n",
       "      <td>Los Angeles Clippers</td>\n",
       "      <td>Minnesota Timberwolves</td>\n",
       "      <td>222.5</td>\n",
       "    </tr>\n",
       "  </tbody>\n",
       "</table>\n",
       "</div>"
      ],
      "text/plain": [
       "               home_team               away_team  point\n",
       "0          Orlando Magic           Atlanta Hawks  245.5\n",
       "1         Indiana Pacers   Golden State Warriors  237.5\n",
       "2      Charlotte Hornets         Detroit Pistons  247.5\n",
       "3        Toronto Raptors        Sacramento Kings  230.5\n",
       "4          Chicago Bulls         New York Knicks  226.5\n",
       "5  Oklahoma City Thunder              Miami Heat  222.5\n",
       "6      San Antonio Spurs  Portland Trail Blazers  231.0\n",
       "7       Dallas Mavericks     Cleveland Cavaliers  217.0\n",
       "8         Denver Nuggets      Washington Wizards  225.0\n",
       "9   Los Angeles Clippers  Minnesota Timberwolves  222.5"
      ]
     },
     "execution_count": 364,
     "metadata": {},
     "output_type": "execute_result"
    }
   ],
   "source": [
    "matchups=fanduel[['home_team','away_team','point']].drop_duplicates(ignore_index=True)\n",
    "matchups"
   ]
  },
  {
   "cell_type": "markdown",
   "metadata": {},
   "source": [
    "#### Creating Dictionary for Mapping"
   ]
  },
  {
   "cell_type": "code",
   "execution_count": 365,
   "metadata": {},
   "outputs": [
    {
     "data": {
      "text/plain": [
       "{'Atlanta Hawks': 'ATL',\n",
       " 'Brooklyn Nets': 'BRK',\n",
       " 'Boston Celtics': 'BOS',\n",
       " 'Charlotte Hornets': 'CHO',\n",
       " 'Chicago Bulls': 'CHI',\n",
       " 'Cleveland Cavaliers': 'CLE',\n",
       " 'Dallas Mavericks': 'DAL',\n",
       " 'Denver Nuggets': 'DEN',\n",
       " 'Detroit Pistons': 'DET',\n",
       " 'Golden State Warriors': 'GSW',\n",
       " 'Houston Rockets': 'HOU',\n",
       " 'Indiana Pacers': 'IND',\n",
       " 'Los Angeles Clippers': 'LAC',\n",
       " 'Los Angeles Lakers': 'LAL',\n",
       " 'Memphis Grizzlies': 'MEM',\n",
       " 'Miami Heat': 'MIA',\n",
       " 'Milwaukee Bucks': 'MIL',\n",
       " 'Minnesota Timberwolves': 'MIN',\n",
       " 'New Orleans Pelicans': 'NOP',\n",
       " 'New York Knicks': 'NYK',\n",
       " 'Oklahoma City Thunder': 'OKC',\n",
       " 'Orlando Magic': 'ORL',\n",
       " 'Philadelphia 76ers': 'PHI',\n",
       " 'Phoenix Suns': 'PHO',\n",
       " 'Portland Trail Blazers': 'POR',\n",
       " 'Sacramento Kings': 'SAC',\n",
       " 'San Antonio Spurs': 'SAS',\n",
       " 'Toronto Raptors': 'TOR',\n",
       " 'Utah Jazz': 'UTA',\n",
       " 'Washington Wizards': 'WAS'}"
      ]
     },
     "execution_count": 365,
     "metadata": {},
     "output_type": "execute_result"
    }
   ],
   "source": [
    "team_abrv_url='https://en.wikipedia.org/wiki/Wikipedia:WikiProject_National_Basketball_Association/National_Basketball_Association_team_abbreviations'\n",
    "team_abrv_res=requests.get(team_abrv_url)\n",
    "team_abrv_soup=BeautifulSoup(team_abrv_res.text)\n",
    "team_abrv_tbl=team_abrv_soup.find('table')\n",
    "\n",
    "teams_abrv={row.find('a').attrs['title']:row.find('td').text[:-1] for row in team_abrv_tbl.find('tbody').find_all('tr')[1:]}\n",
    "\n",
    "teams_abrv.update({'Brooklyn Nets':'BRK'})\n",
    "teams_abrv.update({'Charlotte Hornets':'CHO'})\n",
    "teams_abrv.update({'Phoenix Suns':'PHO'})\n",
    "teams_abrv"
   ]
  },
  {
   "cell_type": "markdown",
   "metadata": {},
   "source": [
    "#### Mapping Matchups "
   ]
  },
  {
   "cell_type": "code",
   "execution_count": 366,
   "metadata": {},
   "outputs": [],
   "source": [
    "matchups.replace({'home_team':teams_abrv,'away_team':teams_abrv},inplace=True)"
   ]
  },
  {
   "cell_type": "code",
   "execution_count": 367,
   "metadata": {},
   "outputs": [
    {
     "data": {
      "text/html": [
       "<div>\n",
       "<style scoped>\n",
       "    .dataframe tbody tr th:only-of-type {\n",
       "        vertical-align: middle;\n",
       "    }\n",
       "\n",
       "    .dataframe tbody tr th {\n",
       "        vertical-align: top;\n",
       "    }\n",
       "\n",
       "    .dataframe thead th {\n",
       "        text-align: right;\n",
       "    }\n",
       "</style>\n",
       "<table border=\"1\" class=\"dataframe\">\n",
       "  <thead>\n",
       "    <tr style=\"text-align: right;\">\n",
       "      <th></th>\n",
       "      <th>home_team</th>\n",
       "      <th>away_team</th>\n",
       "      <th>point</th>\n",
       "    </tr>\n",
       "  </thead>\n",
       "  <tbody>\n",
       "    <tr>\n",
       "      <th>0</th>\n",
       "      <td>ORL</td>\n",
       "      <td>ATL</td>\n",
       "      <td>245.5</td>\n",
       "    </tr>\n",
       "    <tr>\n",
       "      <th>1</th>\n",
       "      <td>IND</td>\n",
       "      <td>GSW</td>\n",
       "      <td>237.5</td>\n",
       "    </tr>\n",
       "    <tr>\n",
       "      <th>2</th>\n",
       "      <td>CHO</td>\n",
       "      <td>DET</td>\n",
       "      <td>247.5</td>\n",
       "    </tr>\n",
       "    <tr>\n",
       "      <th>3</th>\n",
       "      <td>TOR</td>\n",
       "      <td>SAC</td>\n",
       "      <td>230.5</td>\n",
       "    </tr>\n",
       "    <tr>\n",
       "      <th>4</th>\n",
       "      <td>CHI</td>\n",
       "      <td>NYK</td>\n",
       "      <td>226.5</td>\n",
       "    </tr>\n",
       "    <tr>\n",
       "      <th>5</th>\n",
       "      <td>OKC</td>\n",
       "      <td>MIA</td>\n",
       "      <td>222.5</td>\n",
       "    </tr>\n",
       "    <tr>\n",
       "      <th>6</th>\n",
       "      <td>SAS</td>\n",
       "      <td>POR</td>\n",
       "      <td>231.0</td>\n",
       "    </tr>\n",
       "    <tr>\n",
       "      <th>7</th>\n",
       "      <td>DAL</td>\n",
       "      <td>CLE</td>\n",
       "      <td>217.0</td>\n",
       "    </tr>\n",
       "    <tr>\n",
       "      <th>8</th>\n",
       "      <td>DEN</td>\n",
       "      <td>WAS</td>\n",
       "      <td>225.0</td>\n",
       "    </tr>\n",
       "    <tr>\n",
       "      <th>9</th>\n",
       "      <td>LAC</td>\n",
       "      <td>MIN</td>\n",
       "      <td>222.5</td>\n",
       "    </tr>\n",
       "  </tbody>\n",
       "</table>\n",
       "</div>"
      ],
      "text/plain": [
       "  home_team away_team  point\n",
       "0       ORL       ATL  245.5\n",
       "1       IND       GSW  237.5\n",
       "2       CHO       DET  247.5\n",
       "3       TOR       SAC  230.5\n",
       "4       CHI       NYK  226.5\n",
       "5       OKC       MIA  222.5\n",
       "6       SAS       POR  231.0\n",
       "7       DAL       CLE  217.0\n",
       "8       DEN       WAS  225.0\n",
       "9       LAC       MIN  222.5"
      ]
     },
     "execution_count": 367,
     "metadata": {},
     "output_type": "execute_result"
    }
   ],
   "source": [
    "matchups"
   ]
  },
  {
   "cell_type": "markdown",
   "metadata": {},
   "source": [
    "---\n",
    "### Team Data Webscraper\n",
    "---"
   ]
  },
  {
   "cell_type": "code",
   "execution_count": 368,
   "metadata": {},
   "outputs": [],
   "source": [
    "team_abrv1=matchups['home_team'][0] #replace 0 with index row for next matchup\n",
    "team_abrv2=matchups['away_team'][0] #replace 0 with index row for next matchup\n",
    "total=matchups['point'][0]#replace 0 with index row for next matchup"
   ]
  },
  {
   "cell_type": "code",
   "execution_count": 369,
   "metadata": {},
   "outputs": [],
   "source": [
    "def game_data(team_abrv,season):\n",
    "    url=f'https://www.basketball-reference.com/teams/{team_abrv}/{season}/gamelog/'\n",
    "    res=requests.get(url)\n",
    "    if res.status_code != 200: \n",
    "        return f'Error {res.status_code}: please review the input! Try again.' \n",
    "    else:\n",
    "        soup=BeautifulSoup(res.text)\n",
    "        teams = []\n",
    "        stats=['date_game','pts','fg','fga','fg_pct','fg3','fg3a','fg3_pct','ft','fta','ft_pct','trb','ast','stl','blk','tov']\n",
    "        tbl=soup.find('table')\n",
    "        trs=tbl.find('tbody').find_all('tr')\n",
    "        for tr in trs:\n",
    "            df_col={}\n",
    "            for num in range(0,len(stats)):\n",
    "                df_col[stats[num]]=tr.find(attrs={'data-stat':stats[num]})\n",
    "            for num in range(1,len(stats)):\n",
    "                df_col[f'opp_{stats[num]}']=tr.find(attrs={'data-stat':f'opp_{stats[num]}'})\n",
    "\n",
    "            teams.append(df_col)\n",
    "\n",
    "        df=pd.DataFrame(teams)\n",
    "        df.dropna(inplace=True)\n",
    "        df=df.applymap(lambda x: x.text)\n",
    "        df=df[df.date_game!='Date']\n",
    "        df=df.astype({'date_game':'datetime64[ns]','pts':'int64','fg':'int64','fga':'int64','fg_pct':'float64','fg3':'int64','fg3a':'int64','fg3_pct':'float64',\n",
    "        'ft':'int64','fta':'int64','ft_pct':'float64','trb':'int64','ast':'int64','stl':'int64','blk':'int64','tov':'int64',\n",
    "        'opp_pts':'int64','opp_fg':'int64','opp_fga':'int64','opp_fg_pct':'float64','opp_fg3':'int64','opp_fg3a':'int64','opp_fg3_pct':'float64',\n",
    "        'opp_ft':'int64','opp_fta':'int64','opp_ft_pct':'float64','opp_trb':'int64','opp_ast':'int64','opp_stl':'int64','opp_blk':'int64','opp_tov':'int64'})\n",
    "        \n",
    "        df=df.sort_values(by=['date_game'],ascending=False)\n",
    "        \n",
    "        outdf=pd.DataFrame(df[['date_game','pts']])\n",
    "        for num in [1,3,6,8]:\n",
    "            rolsums=df.rolling(num).sum().add_prefix(f'last{num}sum_')\n",
    "            rolsums['date_game']=df['date_game'].shift(num)\n",
    "            out1=rolsums[num:]\n",
    "\n",
    "            outdf=pd.merge(outdf,out1,on='date_game')\n",
    "    return outdf"
   ]
  },
  {
   "cell_type": "code",
   "execution_count": 370,
   "metadata": {},
   "outputs": [],
   "source": [
    "team1=game_data(team_abrv1,'2022')\n",
    "team2=game_data(team_abrv2,'2022')"
   ]
  },
  {
   "cell_type": "markdown",
   "metadata": {},
   "source": [
    "#### Upcoming Game Data (Prediction Data)\n",
    "---"
   ]
  },
  {
   "cell_type": "code",
   "execution_count": 371,
   "metadata": {},
   "outputs": [],
   "source": [
    "def recent_game_data(team_abrv,season):\n",
    "    url=f'https://www.basketball-reference.com/teams/{team_abrv}/{season}/gamelog/'\n",
    "    res=requests.get(url)\n",
    "    if res.status_code != 200: \n",
    "        return f'Error {res.status_code}: please review the input! Try again.' \n",
    "    else:\n",
    "        soup=BeautifulSoup(res.text)\n",
    "        teams = []\n",
    "        stats=['date_game','pts','fg','fga','fg_pct','fg3','fg3a','fg3_pct','ft','fta','ft_pct','trb','ast','stl','blk','tov']\n",
    "        tbl=soup.find('table')\n",
    "        trs=tbl.find('tbody').find_all('tr')\n",
    "        for tr in trs:\n",
    "            df_col={}\n",
    "            for num in range(0,len(stats)):\n",
    "                df_col[stats[num]]=tr.find(attrs={'data-stat':stats[num]})\n",
    "            for num in range(1,len(stats)):\n",
    "                df_col[f'opp_{stats[num]}']=tr.find(attrs={'data-stat':f'opp_{stats[num]}'})\n",
    "\n",
    "            teams.append(df_col)\n",
    "\n",
    "        df=pd.DataFrame(teams)    \n",
    "        df.dropna(inplace=True)\n",
    "        df=df.applymap(lambda x: x.text)\n",
    "        df=df[df.date_game!='Date']\n",
    "        df=df.astype({'date_game':'datetime64[ns]','pts':'int64','fg':'int64','fga':'int64','fg_pct':'float64','fg3':'int64','fg3a':'int64','fg3_pct':'float64',\n",
    "        'ft':'int64','fta':'int64','ft_pct':'float64','trb':'int64','ast':'int64','stl':'int64','blk':'int64','tov':'int64',\n",
    "        'opp_pts':'int64','opp_fg':'int64','opp_fga':'int64','opp_fg_pct':'float64','opp_fg3':'int64','opp_fg3a':'int64','opp_fg3_pct':'float64',\n",
    "        'opp_ft':'int64','opp_fta':'int64','opp_ft_pct':'float64','opp_trb':'int64','opp_ast':'int64','opp_stl':'int64','opp_blk':'int64','opp_tov':'int64'})\n",
    "        \n",
    "        df=df.sort_values(by=['date_game'],ascending=True)\n",
    "        \n",
    "        outdf=pd.DataFrame(df[['date_game','pts']])\n",
    "        for num in [1,3,6,8]:\n",
    "            rolsums=df.rolling(num).sum().add_prefix(f'last{num}sum_')\n",
    "            rolsums['date_game']=df['date_game']\n",
    "            out1=rolsums[num:]\n",
    "\n",
    "            outdf=pd.merge(outdf,out1,on='date_game')\n",
    "    return outdf.sort_values(by=['date_game'],ascending=False).head(1)\n"
   ]
  },
  {
   "cell_type": "code",
   "execution_count": 372,
   "metadata": {},
   "outputs": [],
   "source": [
    "team1recent=recent_game_data(team_abrv1,'2023')\n",
    "team2recent=recent_game_data(team_abrv2,'2023')"
   ]
  },
  {
   "cell_type": "markdown",
   "metadata": {},
   "source": [
    "### Pipeline of Models \n",
    "---"
   ]
  },
  {
   "cell_type": "code",
   "execution_count": 373,
   "metadata": {},
   "outputs": [],
   "source": [
    "lr_pipe=Pipeline([\n",
    "    ('mms',MinMaxScaler()),\n",
    "    ('pf',PolynomialFeatures(include_bias=False)),\n",
    "    ('lr',LinearRegression())\n",
    "])\n",
    "\n",
    "rl_alphas = np.logspace(-3,0,5, 100)\n",
    "ridge_pipe=Pipeline([\n",
    "    ('mms',MinMaxScaler()),\n",
    "    ('pf',PolynomialFeatures(include_bias=False)),\n",
    "    ('ridge',RidgeCV(alphas=rl_alphas,scoring='r2',cv=5))\n",
    "])\n",
    "\n",
    "\n",
    "enet_alphas = np.linspace(0.5, 1.0, 100)\n",
    "enet_ratio = 0.5\n",
    "en_pipe=Pipeline([\n",
    "    ('mms',MinMaxScaler()),\n",
    "    ('pf',PolynomialFeatures(include_bias=False)),\n",
    "    ('en',ElasticNetCV(alphas=enet_alphas,l1_ratio=enet_ratio,cv=5,random_state=42))\n",
    "])\n",
    "\n",
    "knn_pipe=Pipeline([\n",
    "    ('mms',MinMaxScaler()),\n",
    "    ('pf',PolynomialFeatures(include_bias=False)),\n",
    "    ('knn',KNeighborsRegressor())\n",
    "])\n",
    "\n",
    "md=4 \n",
    "mss=5\n",
    "dt_pipe=Pipeline([\n",
    "    ('mms',MinMaxScaler()),\n",
    "    ('pf',PolynomialFeatures(include_bias=False)),\n",
    "    ('dt',DecisionTreeRegressor(max_depth=md,min_samples_split=mss,random_state=42))\n",
    "])\n",
    "\n",
    "rf_pipe=Pipeline([\n",
    "    ('mms',MinMaxScaler()),\n",
    "    ('pf',PolynomialFeatures(include_bias=False)),\n",
    "    ('rf',RandomForestRegressor(random_state=42))\n",
    "])\n",
    "\n",
    "ada_dt=AdaBoostRegressor(base_estimator=dt_pipe,random_state=42)\n",
    "\n",
    "gb_pipe=Pipeline([\n",
    "    ('mms',MinMaxScaler()),\n",
    "    ('pf',PolynomialFeatures(include_bias=False)),\n",
    "    ('gb',GradientBoostingRegressor(random_state=42))\n",
    "])"
   ]
  },
  {
   "cell_type": "markdown",
   "metadata": {},
   "source": [
    "### All Model Scores Together\n",
    "---"
   ]
  },
  {
   "cell_type": "code",
   "execution_count": 374,
   "metadata": {},
   "outputs": [
    {
     "name": "stderr",
     "output_type": "stream",
     "text": [
      "/opt/anaconda3/lib/python3.8/site-packages/pandas/core/indexing.py:670: SettingWithCopyWarning: \n",
      "A value is trying to be set on a copy of a slice from a DataFrame\n",
      "\n",
      "See the caveats in the documentation: https://pandas.pydata.org/pandas-docs/stable/user_guide/indexing.html#returning-a-view-versus-a-copy\n",
      "  iloc._setitem_with_indexer(indexer, value)\n"
     ]
    }
   ],
   "source": [
    "team1df=pd.DataFrame()\n",
    "# for team in team1_2_data:\n",
    "allvar1=team1.drop(columns=['date_game','pts'])\n",
    "top10_corr1=team1[pd.DataFrame(abs(team1.corr()['pts']).sort_values(ascending=False)).iloc[1:,:].reset_index()['index'][:10]]\n",
    "top15_corr1=team1[pd.DataFrame(abs(team1.corr()['pts']).sort_values(ascending=False)).iloc[1:,:].reset_index()['index'][:15]]\n",
    "top20_corr1=team1[pd.DataFrame(abs(team1.corr()['pts']).sort_values(ascending=False)).iloc[1:,:].reset_index()['index'][:20]]\n",
    "all_X=[allvar1,top10_corr1,top15_corr1,top20_corr1]\n",
    "all_X_name=['allvar','top10_corr','top15_corr','top20_corr']\n",
    "for x in all_X:\n",
    "    X=x\n",
    "    y=team1['pts']\n",
    "    X_train, X_val, y_train, y_val = train_test_split(X, y, test_size=0.20, random_state=42)\n",
    "    #allvar,top10_corr,top15_corr,top20_corr\n",
    "    pipes=[lr_pipe,ridge_pipe,en_pipe,knn_pipe,dt_pipe,rf_pipe,ada_dt,gb_pipe]\n",
    "    pipes_name={0:'lr_pipe',1:'ridge_pipe',2:'en_pipe',3:'knn_pipe',4:'dt_pipe',5:'rf_pipe',6:'ada_dt',7:'gb_pipe'}\n",
    "    results=[]\n",
    "    for pipe in pipes:\n",
    "        pipe_fitted=pipe.fit(X_train,y_train)\n",
    "        pipe_train_score=pipe_fitted.score(X_train,y_train)\n",
    "        pipe_test_score=pipe_fitted.score(X_val,y_val)\n",
    "        pipe_fitted_cross_val_score=cross_val_score(pipe_fitted, X_train, y_train, cv=5, n_jobs=-1).mean()\n",
    "        pipe_fitted_RMSE_train=mean_squared_error(y_train,pipe_fitted.predict(X_train),squared=False)\n",
    "        pipe_fitted_RMSE_val=mean_squared_error(y_val,pipe_fitted.predict(X_val),squared=False)\n",
    "        \n",
    "        results.append([pipe_train_score,pipe_test_score,pipe_fitted_cross_val_score,pipe_fitted_RMSE_train,pipe_fitted_RMSE_val])\n",
    "        dfres = pd.DataFrame(results)\n",
    "        team1df=team1df.append(dfres)\n",
    "team1df.drop_duplicates(inplace=True)\n",
    "team1df.rename(columns={0:'train_score',1:'test_score',2:'cross_val_score',3:'RMSE_train',4:'RMSE_val'},inplace=True)\n",
    "team1df['name_of_estimator_pipe']=team1df.index.to_series().map(pipes_name)\n",
    "team1df['name_of_estimator_pipe'].iloc[:8]='all_var_'+team1df['name_of_estimator_pipe'].iloc[:8]\n",
    "team1df['name_of_estimator_pipe'].iloc[8:16]='top10_corr_'+team1df['name_of_estimator_pipe'].iloc[8:16]\n",
    "team1df['name_of_estimator_pipe'].iloc[16:24]='top15_corr_'+team1df['name_of_estimator_pipe'].iloc[16:24]\n",
    "team1df['name_of_estimator_pipe'].iloc[24:32]='top20_corr_'+team1df['name_of_estimator_pipe'].iloc[24:32]\n",
    "team1df.set_index('name_of_estimator_pipe',inplace=True)\n",
    "\n"
   ]
  },
  {
   "cell_type": "code",
   "execution_count": 375,
   "metadata": {},
   "outputs": [
    {
     "name": "stderr",
     "output_type": "stream",
     "text": [
      "/opt/anaconda3/lib/python3.8/site-packages/pandas/core/indexing.py:670: SettingWithCopyWarning: \n",
      "A value is trying to be set on a copy of a slice from a DataFrame\n",
      "\n",
      "See the caveats in the documentation: https://pandas.pydata.org/pandas-docs/stable/user_guide/indexing.html#returning-a-view-versus-a-copy\n",
      "  iloc._setitem_with_indexer(indexer, value)\n"
     ]
    }
   ],
   "source": [
    "team2df=pd.DataFrame()\n",
    "# for team in team1_2_data:\n",
    "allvar2=team2.drop(columns=['date_game','pts'])\n",
    "top10_corr2=team2[pd.DataFrame(abs(team2.corr()['pts']).sort_values(ascending=False)).iloc[1:,:].reset_index()['index'][:10]]\n",
    "top15_corr2=team2[pd.DataFrame(abs(team2.corr()['pts']).sort_values(ascending=False)).iloc[1:,:].reset_index()['index'][:15]]\n",
    "top20_corr2=team2[pd.DataFrame(abs(team2.corr()['pts']).sort_values(ascending=False)).iloc[1:,:].reset_index()['index'][:20]]\n",
    "all_X2=[allvar2,top10_corr2,top15_corr2,top20_corr2]\n",
    "all_X_name=['allvar','top10_corr','top15_corr','top20_corr']\n",
    "for x in all_X:\n",
    "    X=x\n",
    "    y=team2['pts']\n",
    "    X_train, X_val, y_train, y_val = train_test_split(X, y, test_size=0.20, random_state=42)\n",
    "    #allvar,top10_corr,top15_corr,top20_corr\n",
    "    pipes=[lr_pipe,ridge_pipe,en_pipe,knn_pipe,dt_pipe,rf_pipe,ada_dt,gb_pipe]\n",
    "    pipes_name={0:'lr_pipe',1:'ridge_pipe',2:'en_pipe',3:'knn_pipe',4:'dt_pipe',5:'rf_pipe',6:'ada_dt',7:'gb_pipe'}\n",
    "    results=[]\n",
    "    for pipe in pipes:\n",
    "        pipe_fitted=pipe.fit(X_train,y_train)\n",
    "        pipe_train_score=pipe_fitted.score(X_train,y_train)\n",
    "        pipe_test_score=pipe_fitted.score(X_val,y_val)\n",
    "        pipe_fitted_cross_val_score=cross_val_score(pipe_fitted, X_train, y_train, cv=5, n_jobs=-1).mean()\n",
    "        pipe_fitted_RMSE_train=mean_squared_error(y_train,pipe_fitted.predict(X_train),squared=False)\n",
    "        pipe_fitted_RMSE_val=mean_squared_error(y_val,pipe_fitted.predict(X_val),squared=False)\n",
    "        \n",
    "        results.append([pipe_train_score,pipe_test_score,pipe_fitted_cross_val_score,pipe_fitted_RMSE_train,pipe_fitted_RMSE_val])\n",
    "        dfres = pd.DataFrame(results)\n",
    "        team2df=team2df.append(dfres)\n",
    "team2df.drop_duplicates(inplace=True)\n",
    "team2df.rename(columns={0:'train_score',1:'test_score',2:'cross_val_score',3:'RMSE_train',4:'RMSE_val'},inplace=True)\n",
    "team2df['name_of_estimator_pipe']=team2df.index.to_series().map(pipes_name)\n",
    "team2df['name_of_estimator_pipe'].iloc[:8]='all_var_'+team2df['name_of_estimator_pipe'].iloc[:8]\n",
    "team2df['name_of_estimator_pipe'].iloc[8:16]='top10_corr_'+team2df['name_of_estimator_pipe'].iloc[8:16]\n",
    "team2df['name_of_estimator_pipe'].iloc[16:24]='top15_corr_'+team2df['name_of_estimator_pipe'].iloc[16:24]\n",
    "team2df['name_of_estimator_pipe'].iloc[24:32]='top20_corr_'+team2df['name_of_estimator_pipe'].iloc[24:32]\n",
    "team2df.set_index('name_of_estimator_pipe',inplace=True)\n"
   ]
  },
  {
   "cell_type": "markdown",
   "metadata": {},
   "source": [
    "### Top Test Score Model\n",
    "---"
   ]
  },
  {
   "cell_type": "code",
   "execution_count": 376,
   "metadata": {},
   "outputs": [
    {
     "data": {
      "text/plain": [
       "'top10_corr_ada_dt'"
      ]
     },
     "execution_count": 376,
     "metadata": {},
     "output_type": "execute_result"
    }
   ],
   "source": [
    "team1df.loc[team1df['test_score'].idxmax()].name"
   ]
  },
  {
   "cell_type": "code",
   "execution_count": 377,
   "metadata": {},
   "outputs": [
    {
     "data": {
      "text/plain": [
       "'all_var_en_pipe'"
      ]
     },
     "execution_count": 377,
     "metadata": {},
     "output_type": "execute_result"
    }
   ],
   "source": [
    "team2df.loc[team2df['test_score'].idxmax()].name"
   ]
  },
  {
   "cell_type": "markdown",
   "metadata": {},
   "source": [
    "### Top Model Predictions\n",
    "---"
   ]
  },
  {
   "cell_type": "code",
   "execution_count": 378,
   "metadata": {},
   "outputs": [
    {
     "data": {
      "text/plain": [
       "array([110.])"
      ]
     },
     "execution_count": 378,
     "metadata": {},
     "output_type": "execute_result"
    }
   ],
   "source": [
    "X=top10_corr1\n",
    "y=team1['pts']\n",
    "X_train, X_val, y_train, y_val = train_test_split(X, y, test_size=0.20, random_state=42)\n",
    "\n",
    "team1_model=ada_dt.fit(X_train,y_train)\n",
    "\n",
    "X=team1recent[top10_corr1.columns]\n",
    "y_pred1=team1_model.predict(X)\n",
    "y_pred1"
   ]
  },
  {
   "cell_type": "code",
   "execution_count": 379,
   "metadata": {},
   "outputs": [
    {
     "data": {
      "text/plain": [
       "array([117.14197592])"
      ]
     },
     "execution_count": 379,
     "metadata": {},
     "output_type": "execute_result"
    }
   ],
   "source": [
    "X=top10_corr2\n",
    "y=team2['pts']\n",
    "X_train, X_val, y_train, y_val = train_test_split(X, y, test_size=0.20, random_state=42)\n",
    "\n",
    "team2_model=ridge_pipe.fit(X_train,y_train)\n",
    "\n",
    "X=team2recent[top10_corr2.columns]\n",
    "y_pred2=team2_model.predict(X)\n",
    "y_pred2"
   ]
  },
  {
   "cell_type": "markdown",
   "metadata": {},
   "source": [
    "### Total Score Prediction \n",
    "---"
   ]
  },
  {
   "cell_type": "code",
   "execution_count": 380,
   "metadata": {},
   "outputs": [
    {
     "name": "stdout",
     "output_type": "stream",
     "text": [
      "Home team-ORL:110.0,Away Team-ATL:117.14197591745466\n",
      "Predicted Total:227.14197591745466\n",
      "Over/Under Line:245.5\n",
      "Bet Under!\n"
     ]
    }
   ],
   "source": [
    "print(f'Home team-{team_abrv1}:{y_pred1[0]},Away Team-{team_abrv2}:{y_pred2[0]}')\n",
    "print(f'Predicted Total:{(y_pred1+y_pred2)[0]}')\n",
    "print(f'Over/Under Line:{total}')\n",
    "if total>(y_pred1+y_pred2)[0]:\n",
    "    print('Bet Under!')\n",
    "else:\n",
    "    print('Bet Over!')"
   ]
  },
  {
   "cell_type": "markdown",
   "metadata": {},
   "source": [
    "---"
   ]
  }
 ],
 "metadata": {
  "kernelspec": {
   "display_name": "Python 3",
   "language": "python",
   "name": "python3"
  },
  "language_info": {
   "codemirror_mode": {
    "name": "ipython",
    "version": 3
   },
   "file_extension": ".py",
   "mimetype": "text/x-python",
   "name": "python",
   "nbconvert_exporter": "python",
   "pygments_lexer": "ipython3",
   "version": "3.8.5"
  }
 },
 "nbformat": 4,
 "nbformat_minor": 4
}
